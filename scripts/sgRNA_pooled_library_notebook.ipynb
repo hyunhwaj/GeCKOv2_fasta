{
 "cells": [
  {
   "cell_type": "code",
   "execution_count": 36,
   "metadata": {
    "collapsed": true
   },
   "outputs": [],
   "source": [
    "from glob import glob\n",
    "import pandas as pd\n",
    "from pathlib import Path\n",
    "from collections import Counter"
   ]
  },
  {
   "cell_type": "code",
   "execution_count": 6,
   "metadata": {},
   "outputs": [
    {
     "data": {
      "text/plain": [
       "['../src_files/Human_Sabatini_addgene1000000095.xlsx',\n",
       " '../src_files/Human_TKO_version3_addgene90294.xlsx',\n",
       " '../src_files/Human_Yusa_addgene67989.xlsx',\n",
       " '../src_files/Mouse_Yusa_addgene67988.xlsx']"
      ]
     },
     "execution_count": 6,
     "metadata": {},
     "output_type": "execute_result"
    }
   ],
   "source": [
    "glob(\"../src_files/*.xlsx\")"
   ]
  },
  {
   "cell_type": "code",
   "execution_count": 20,
   "metadata": {},
   "outputs": [
    {
     "data": {
      "text/html": [
       "<div>\n",
       "<style>\n",
       "    .dataframe thead tr:only-child th {\n",
       "        text-align: right;\n",
       "    }\n",
       "\n",
       "    .dataframe thead th {\n",
       "        text-align: left;\n",
       "    }\n",
       "\n",
       "    .dataframe tbody tr th {\n",
       "        vertical-align: top;\n",
       "    }\n",
       "</style>\n",
       "<table border=\"1\" class=\"dataframe\">\n",
       "  <thead>\n",
       "    <tr style=\"text-align: right;\">\n",
       "      <th></th>\n",
       "      <th>sgRNA ID</th>\n",
       "      <th>Symbol</th>\n",
       "      <th>Chromosome</th>\n",
       "      <th>sgRNA location</th>\n",
       "      <th>Genomic strand targeted</th>\n",
       "      <th>sgRNA sequence</th>\n",
       "      <th>Other genes hits</th>\n",
       "    </tr>\n",
       "  </thead>\n",
       "  <tbody>\n",
       "    <tr>\n",
       "      <th>182129</th>\n",
       "      <td>CTRL01000</td>\n",
       "      <td>NaN</td>\n",
       "      <td>NaN</td>\n",
       "      <td>NaN</td>\n",
       "      <td>NaN</td>\n",
       "      <td>GGACCAAGTCGTCGATCTTA</td>\n",
       "      <td>NaN</td>\n",
       "    </tr>\n",
       "    <tr>\n",
       "      <th>182130</th>\n",
       "      <td>CTRL01001</td>\n",
       "      <td>NaN</td>\n",
       "      <td>NaN</td>\n",
       "      <td>NaN</td>\n",
       "      <td>NaN</td>\n",
       "      <td>GTGTCAACGGAGAATGGTCA</td>\n",
       "      <td>NaN</td>\n",
       "    </tr>\n",
       "    <tr>\n",
       "      <th>182131</th>\n",
       "      <td>CTRL01002</td>\n",
       "      <td>NaN</td>\n",
       "      <td>NaN</td>\n",
       "      <td>NaN</td>\n",
       "      <td>NaN</td>\n",
       "      <td>GACGAGTCGATTATGAGCGG</td>\n",
       "      <td>NaN</td>\n",
       "    </tr>\n",
       "    <tr>\n",
       "      <th>182132</th>\n",
       "      <td>CTRL01003</td>\n",
       "      <td>NaN</td>\n",
       "      <td>NaN</td>\n",
       "      <td>NaN</td>\n",
       "      <td>NaN</td>\n",
       "      <td>GATACGCTCTCGCCCTTCCC</td>\n",
       "      <td>NaN</td>\n",
       "    </tr>\n",
       "    <tr>\n",
       "      <th>182133</th>\n",
       "      <td>CTRL01004</td>\n",
       "      <td>NaN</td>\n",
       "      <td>NaN</td>\n",
       "      <td>NaN</td>\n",
       "      <td>NaN</td>\n",
       "      <td>GCTAGCTAGTCTCGCGGGCA</td>\n",
       "      <td>NaN</td>\n",
       "    </tr>\n",
       "  </tbody>\n",
       "</table>\n",
       "</div>"
      ],
      "text/plain": [
       "         sgRNA ID Symbol Chromosome  sgRNA location Genomic strand targeted  \\\n",
       "182129  CTRL01000    NaN        NaN             NaN                     NaN   \n",
       "182130  CTRL01001    NaN        NaN             NaN                     NaN   \n",
       "182131  CTRL01002    NaN        NaN             NaN                     NaN   \n",
       "182132  CTRL01003    NaN        NaN             NaN                     NaN   \n",
       "182133  CTRL01004    NaN        NaN             NaN                     NaN   \n",
       "\n",
       "              sgRNA sequence Other genes hits  \n",
       "182129  GGACCAAGTCGTCGATCTTA              NaN  \n",
       "182130  GTGTCAACGGAGAATGGTCA              NaN  \n",
       "182131  GACGAGTCGATTATGAGCGG              NaN  \n",
       "182132  GATACGCTCTCGCCCTTCCC              NaN  \n",
       "182133  GCTAGCTAGTCTCGCGGGCA              NaN  "
      ]
     },
     "execution_count": 20,
     "metadata": {},
     "output_type": "execute_result"
    }
   ],
   "source": [
    "df_sabatini = pd.read_excel(\"../src_files/Human_Sabatini_addgene1000000095.xlsx\")\n",
    "df_sabatini.tail()"
   ]
  },
  {
   "cell_type": "code",
   "execution_count": 25,
   "metadata": {},
   "outputs": [
    {
     "data": {
      "text/html": [
       "<div>\n",
       "<style>\n",
       "    .dataframe thead tr:only-child th {\n",
       "        text-align: right;\n",
       "    }\n",
       "\n",
       "    .dataframe thead th {\n",
       "        text-align: left;\n",
       "    }\n",
       "\n",
       "    .dataframe tbody tr th {\n",
       "        vertical-align: top;\n",
       "    }\n",
       "</style>\n",
       "<table border=\"1\" class=\"dataframe\">\n",
       "  <thead>\n",
       "    <tr style=\"text-align: right;\">\n",
       "      <th></th>\n",
       "      <th>sgRNA ID</th>\n",
       "      <th>Symbol</th>\n",
       "      <th>Chromosome</th>\n",
       "      <th>sgRNA location</th>\n",
       "      <th>Genomic strand targeted</th>\n",
       "      <th>sgRNA sequence</th>\n",
       "      <th>Other genes hits</th>\n",
       "    </tr>\n",
       "  </thead>\n",
       "  <tbody>\n",
       "    <tr>\n",
       "      <th>0</th>\n",
       "      <td>sgA1BG_1</td>\n",
       "      <td>A1BG</td>\n",
       "      <td>chr19</td>\n",
       "      <td>58864441.0</td>\n",
       "      <td>-</td>\n",
       "      <td>CCAGCTGTTCAAGAATGGGG</td>\n",
       "      <td>NaN</td>\n",
       "    </tr>\n",
       "    <tr>\n",
       "      <th>1</th>\n",
       "      <td>sgA1BG_2</td>\n",
       "      <td>A1BG</td>\n",
       "      <td>chr19</td>\n",
       "      <td>58862759.0</td>\n",
       "      <td>-</td>\n",
       "      <td>GTCGAGCTGATTCTGAGCGA</td>\n",
       "      <td>NaN</td>\n",
       "    </tr>\n",
       "    <tr>\n",
       "      <th>2</th>\n",
       "      <td>sgA1BG_3</td>\n",
       "      <td>A1BG</td>\n",
       "      <td>chr19</td>\n",
       "      <td>58863731.0</td>\n",
       "      <td>+</td>\n",
       "      <td>AGGCTGATGGACTGGAAAGG</td>\n",
       "      <td>NaN</td>\n",
       "    </tr>\n",
       "    <tr>\n",
       "      <th>3</th>\n",
       "      <td>sgA1BG_4</td>\n",
       "      <td>A1BG</td>\n",
       "      <td>chr19</td>\n",
       "      <td>58861903.0</td>\n",
       "      <td>-</td>\n",
       "      <td>CTGGTGCGCGAGGACAGGGG</td>\n",
       "      <td>NaN</td>\n",
       "    </tr>\n",
       "    <tr>\n",
       "      <th>4</th>\n",
       "      <td>sgA1BG_5</td>\n",
       "      <td>A1BG</td>\n",
       "      <td>chr19</td>\n",
       "      <td>58861812.0</td>\n",
       "      <td>+</td>\n",
       "      <td>GTAGTTGGCGGAGTCAGCCA</td>\n",
       "      <td>NaN</td>\n",
       "    </tr>\n",
       "  </tbody>\n",
       "</table>\n",
       "</div>"
      ],
      "text/plain": [
       "   sgRNA ID Symbol Chromosome  sgRNA location Genomic strand targeted  \\\n",
       "0  sgA1BG_1   A1BG      chr19      58864441.0                       -   \n",
       "1  sgA1BG_2   A1BG      chr19      58862759.0                       -   \n",
       "2  sgA1BG_3   A1BG      chr19      58863731.0                       +   \n",
       "3  sgA1BG_4   A1BG      chr19      58861903.0                       -   \n",
       "4  sgA1BG_5   A1BG      chr19      58861812.0                       +   \n",
       "\n",
       "         sgRNA sequence Other genes hits  \n",
       "0  CCAGCTGTTCAAGAATGGGG              NaN  \n",
       "1  GTCGAGCTGATTCTGAGCGA              NaN  \n",
       "2  AGGCTGATGGACTGGAAAGG              NaN  \n",
       "3  CTGGTGCGCGAGGACAGGGG              NaN  \n",
       "4  GTAGTTGGCGGAGTCAGCCA              NaN  "
      ]
     },
     "execution_count": 25,
     "metadata": {},
     "output_type": "execute_result"
    }
   ],
   "source": [
    "df_sabatini.head()"
   ]
  },
  {
   "cell_type": "code",
   "execution_count": 21,
   "metadata": {},
   "outputs": [],
   "source": [
    "sgRNA_id = [s.replace(\"sg\", \"\").replace(\"CTRL\", \"CTRL_\") for s in df_sabatini[\"sgRNA ID\"].tolist()]\n",
    "sgRNA_seq = df_sabatini[\"sgRNA sequence\"].tolist()"
   ]
  },
  {
   "cell_type": "code",
   "execution_count": 22,
   "metadata": {
    "collapsed": true
   },
   "outputs": [],
   "source": [
    "with open(\"../Human_Sabatini_addgene1000000095.fasta\", \"w\") as oup:\n",
    "    for sg_id, sg_seq in zip(sgRNA_id, sgRNA_seq):\n",
    "        print(\">{}\".format(sg_id), file=oup)\n",
    "        print(sg_seq, file=oup)"
   ]
  },
  {
   "cell_type": "code",
   "execution_count": 23,
   "metadata": {},
   "outputs": [
    {
     "name": "stdout",
     "output_type": "stream",
     "text": [
      ">A1BG_1\r\n",
      "CCAGCTGTTCAAGAATGGGG\r\n",
      ">A1BG_2\r\n",
      "GTCGAGCTGATTCTGAGCGA\r\n",
      ">A1BG_3\r\n",
      "AGGCTGATGGACTGGAAAGG\r\n",
      ">A1BG_4\r\n",
      "CTGGTGCGCGAGGACAGGGG\r\n",
      ">A1BG_5\r\n",
      "GTAGTTGGCGGAGTCAGCCA\r\n"
     ]
    }
   ],
   "source": [
    "!head ../Human_Sabatini_addgene1000000095.fasta"
   ]
  },
  {
   "cell_type": "code",
   "execution_count": 24,
   "metadata": {},
   "outputs": [
    {
     "name": "stdout",
     "output_type": "stream",
     "text": [
      ">CTRL_01000\r\n",
      "GGACCAAGTCGTCGATCTTA\r\n",
      ">CTRL_01001\r\n",
      "GTGTCAACGGAGAATGGTCA\r\n",
      ">CTRL_01002\r\n",
      "GACGAGTCGATTATGAGCGG\r\n",
      ">CTRL_01003\r\n",
      "GATACGCTCTCGCCCTTCCC\r\n",
      ">CTRL_01004\r\n",
      "GCTAGCTAGTCTCGCGGGCA\r\n"
     ]
    }
   ],
   "source": [
    "!tail ../Human_Sabatini_addgene1000000095.fasta"
   ]
  },
  {
   "cell_type": "code",
   "execution_count": 28,
   "metadata": {},
   "outputs": [
    {
     "data": {
      "text/html": [
       "<div>\n",
       "<style>\n",
       "    .dataframe thead tr:only-child th {\n",
       "        text-align: right;\n",
       "    }\n",
       "\n",
       "    .dataframe thead th {\n",
       "        text-align: left;\n",
       "    }\n",
       "\n",
       "    .dataframe tbody tr th {\n",
       "        vertical-align: top;\n",
       "    }\n",
       "</style>\n",
       "<table border=\"1\" class=\"dataframe\">\n",
       "  <thead>\n",
       "    <tr style=\"text-align: right;\">\n",
       "      <th></th>\n",
       "      <th>GENE</th>\n",
       "      <th>SEQUENCE</th>\n",
       "      <th>GUIDE_ID</th>\n",
       "      <th>TARGET EXON</th>\n",
       "    </tr>\n",
       "  </thead>\n",
       "  <tbody>\n",
       "    <tr>\n",
       "      <th>0</th>\n",
       "      <td>A1BG</td>\n",
       "      <td>CAAGAGAAAGACCACGAGCA</td>\n",
       "      <td>chr19:58864777-58864796_A1BG_+</td>\n",
       "      <td>exon_01</td>\n",
       "    </tr>\n",
       "    <tr>\n",
       "      <th>1</th>\n",
       "      <td>A1BG</td>\n",
       "      <td>GCTCAGCTGGGTCCATCCTG</td>\n",
       "      <td>chr19:58864319-58864338_A1BG_+</td>\n",
       "      <td>exon_03</td>\n",
       "    </tr>\n",
       "    <tr>\n",
       "      <th>2</th>\n",
       "      <td>A1BG</td>\n",
       "      <td>ACTGGCGCCATCGAGAGCCA</td>\n",
       "      <td>chr19:58863885-58863904_A1BG_+</td>\n",
       "      <td>exon_04</td>\n",
       "    </tr>\n",
       "    <tr>\n",
       "      <th>3</th>\n",
       "      <td>A1BG</td>\n",
       "      <td>GTCGAGCTGATTCTGAGCGA</td>\n",
       "      <td>chr19:58862759-58862778_A1BG_-</td>\n",
       "      <td>exon_05</td>\n",
       "    </tr>\n",
       "    <tr>\n",
       "      <th>4</th>\n",
       "      <td>A1CF</td>\n",
       "      <td>TGCGCTGGACCAGTGCGCGG</td>\n",
       "      <td>chr10:52619622-52619641_A1CF_+</td>\n",
       "      <td>exon_01</td>\n",
       "    </tr>\n",
       "  </tbody>\n",
       "</table>\n",
       "</div>"
      ],
      "text/plain": [
       "   GENE              SEQUENCE                        GUIDE_ID TARGET EXON\n",
       "0  A1BG  CAAGAGAAAGACCACGAGCA  chr19:58864777-58864796_A1BG_+     exon_01\n",
       "1  A1BG  GCTCAGCTGGGTCCATCCTG  chr19:58864319-58864338_A1BG_+     exon_03\n",
       "2  A1BG  ACTGGCGCCATCGAGAGCCA  chr19:58863885-58863904_A1BG_+     exon_04\n",
       "3  A1BG  GTCGAGCTGATTCTGAGCGA  chr19:58862759-58862778_A1BG_-     exon_05\n",
       "4  A1CF  TGCGCTGGACCAGTGCGCGG  chr10:52619622-52619641_A1CF_+     exon_01"
      ]
     },
     "execution_count": 28,
     "metadata": {},
     "output_type": "execute_result"
    }
   ],
   "source": [
    "df_human_tko = pd.read_excel(\"../src_files/Human_TKO_version3_addgene90294.xlsx\")\n",
    "df_human_tko.head()"
   ]
  },
  {
   "cell_type": "code",
   "execution_count": 29,
   "metadata": {},
   "outputs": [
    {
     "data": {
      "text/html": [
       "<div>\n",
       "<style>\n",
       "    .dataframe thead tr:only-child th {\n",
       "        text-align: right;\n",
       "    }\n",
       "\n",
       "    .dataframe thead th {\n",
       "        text-align: left;\n",
       "    }\n",
       "\n",
       "    .dataframe tbody tr th {\n",
       "        vertical-align: top;\n",
       "    }\n",
       "</style>\n",
       "<table border=\"1\" class=\"dataframe\">\n",
       "  <thead>\n",
       "    <tr style=\"text-align: right;\">\n",
       "      <th></th>\n",
       "      <th>GENE</th>\n",
       "      <th>SEQUENCE</th>\n",
       "      <th>GUIDE_ID</th>\n",
       "      <th>TARGET EXON</th>\n",
       "    </tr>\n",
       "  </thead>\n",
       "  <tbody>\n",
       "    <tr>\n",
       "      <th>71085</th>\n",
       "      <td>luciferase</td>\n",
       "      <td>CTTGTCGTATCCCTGGAAGA</td>\n",
       "      <td>luciferase:649-668_luciferase_-</td>\n",
       "      <td>CTRL</td>\n",
       "    </tr>\n",
       "    <tr>\n",
       "      <th>71086</th>\n",
       "      <td>luciferase</td>\n",
       "      <td>ACAACTTTACCGACCGCGCC</td>\n",
       "      <td>luciferase:533-552_luciferase_-</td>\n",
       "      <td>CTRL</td>\n",
       "    </tr>\n",
       "    <tr>\n",
       "      <th>71087</th>\n",
       "      <td>luciferase</td>\n",
       "      <td>CCTCTAGAGGATGGAACCGC</td>\n",
       "      <td>luciferase:45-64_luciferase_+</td>\n",
       "      <td>CTRL</td>\n",
       "    </tr>\n",
       "    <tr>\n",
       "      <th>71088</th>\n",
       "      <td>luciferase</td>\n",
       "      <td>GGCATGCGAGAATCTGACGC</td>\n",
       "      <td>luciferase:970-989_luciferase_-</td>\n",
       "      <td>CTRL</td>\n",
       "    </tr>\n",
       "    <tr>\n",
       "      <th>71089</th>\n",
       "      <td>luciferase</td>\n",
       "      <td>GGCTATGAAGAGATACGCCC</td>\n",
       "      <td>luciferase:83-102_luciferase_+</td>\n",
       "      <td>CTRL</td>\n",
       "    </tr>\n",
       "  </tbody>\n",
       "</table>\n",
       "</div>"
      ],
      "text/plain": [
       "             GENE              SEQUENCE                         GUIDE_ID  \\\n",
       "71085  luciferase  CTTGTCGTATCCCTGGAAGA  luciferase:649-668_luciferase_-   \n",
       "71086  luciferase  ACAACTTTACCGACCGCGCC  luciferase:533-552_luciferase_-   \n",
       "71087  luciferase  CCTCTAGAGGATGGAACCGC    luciferase:45-64_luciferase_+   \n",
       "71088  luciferase  GGCATGCGAGAATCTGACGC  luciferase:970-989_luciferase_-   \n",
       "71089  luciferase  GGCTATGAAGAGATACGCCC   luciferase:83-102_luciferase_+   \n",
       "\n",
       "      TARGET EXON  \n",
       "71085        CTRL  \n",
       "71086        CTRL  \n",
       "71087        CTRL  \n",
       "71088        CTRL  \n",
       "71089        CTRL  "
      ]
     },
     "execution_count": 29,
     "metadata": {},
     "output_type": "execute_result"
    }
   ],
   "source": [
    "df_human_tko.tail()"
   ]
  },
  {
   "cell_type": "code",
   "execution_count": 30,
   "metadata": {
    "collapsed": true
   },
   "outputs": [],
   "source": [
    "sgRNA_seq = df_human_tko.SEQUENCE.tolist()"
   ]
  },
  {
   "cell_type": "code",
   "execution_count": 40,
   "metadata": {
    "collapsed": true
   },
   "outputs": [],
   "source": [
    "guide_id = [v.split(\"_\")[0] + v.split(\"_\")[-1] for v in df_human_tko.GUIDE_ID.tolist()]"
   ]
  },
  {
   "cell_type": "code",
   "execution_count": 41,
   "metadata": {},
   "outputs": [
    {
     "data": {
      "text/plain": [
       "(71090, 71090)"
      ]
     },
     "execution_count": 41,
     "metadata": {},
     "output_type": "execute_result"
    }
   ],
   "source": [
    "len(guide_id), len(set(guide_id))"
   ]
  },
  {
   "cell_type": "code",
   "execution_count": 42,
   "metadata": {
    "collapsed": true
   },
   "outputs": [],
   "source": [
    "sgRNA_id = [ \"{}_{}\".format(g,i) for g, i in zip(df_human_tko.GENE.tolist(), guide_id)]"
   ]
  },
  {
   "cell_type": "code",
   "execution_count": 43,
   "metadata": {},
   "outputs": [
    {
     "data": {
      "text/plain": [
       "(71090, 71090)"
      ]
     },
     "execution_count": 43,
     "metadata": {},
     "output_type": "execute_result"
    }
   ],
   "source": [
    "len(sgRNA_id), len(set(sgRNA_id))"
   ]
  },
  {
   "cell_type": "code",
   "execution_count": 46,
   "metadata": {},
   "outputs": [
    {
     "data": {
      "text/plain": [
       "(['A1BG_chr19:58864777-58864796+',\n",
       "  'A1BG_chr19:58864319-58864338+',\n",
       "  'A1BG_chr19:58863885-58863904+',\n",
       "  'A1BG_chr19:58862759-58862778-',\n",
       "  'A1CF_chr10:52619622-52619641+',\n",
       "  'A1CF_chr10:52603830-52603849+',\n",
       "  'A1CF_chr10:52595871-52595890+',\n",
       "  'A1CF_chr10:52575966-52575985-',\n",
       "  'A2ML1_chr12:8975265-8975284-',\n",
       "  'A2ML1_chr12:8975819-8975838-'],\n",
       " ['luciferase_luciferase:1551-1570+',\n",
       "  'luciferase_luciferase:1516-1535-',\n",
       "  'luciferase_luciferase:1610-1629+',\n",
       "  'luciferase_luciferase:1613-1632-',\n",
       "  'luciferase_luciferase:305-324-',\n",
       "  'luciferase_luciferase:649-668-',\n",
       "  'luciferase_luciferase:533-552-',\n",
       "  'luciferase_luciferase:45-64+',\n",
       "  'luciferase_luciferase:970-989-',\n",
       "  'luciferase_luciferase:83-102+'])"
      ]
     },
     "execution_count": 46,
     "metadata": {},
     "output_type": "execute_result"
    }
   ],
   "source": [
    "sgRNA_id[:10], sgRNA_id[-10:]"
   ]
  },
  {
   "cell_type": "code",
   "execution_count": 47,
   "metadata": {},
   "outputs": [],
   "source": [
    "with open(\"../Human_TKO_version3_addgene90294.fasta\", \"w\") as oup:\n",
    "    for sg_id, sg_seq in zip(sgRNA_id, sgRNA_seq):\n",
    "        print(\">{}\".format(sg_id), file=oup)\n",
    "        print(sg_seq, file=oup)"
   ]
  },
  {
   "cell_type": "code",
   "execution_count": 49,
   "metadata": {},
   "outputs": [
    {
     "name": "stdout",
     "output_type": "stream",
     "text": [
      ">A1BG_chr19:58864777-58864796+\r\n",
      "CAAGAGAAAGACCACGAGCA\r\n",
      ">A1BG_chr19:58864319-58864338+\r\n",
      "GCTCAGCTGGGTCCATCCTG\r\n",
      ">A1BG_chr19:58863885-58863904+\r\n",
      "ACTGGCGCCATCGAGAGCCA\r\n",
      ">A1BG_chr19:58862759-58862778-\r\n",
      "GTCGAGCTGATTCTGAGCGA\r\n",
      ">A1CF_chr10:52619622-52619641+\r\n",
      "TGCGCTGGACCAGTGCGCGG\r\n"
     ]
    }
   ],
   "source": [
    "!head ../Human_TKO_version3_addgene90294.fasta"
   ]
  },
  {
   "cell_type": "code",
   "execution_count": 50,
   "metadata": {},
   "outputs": [
    {
     "name": "stdout",
     "output_type": "stream",
     "text": [
      ">luciferase_luciferase:649-668-\r\n",
      "CTTGTCGTATCCCTGGAAGA\r\n",
      ">luciferase_luciferase:533-552-\r\n",
      "ACAACTTTACCGACCGCGCC\r\n",
      ">luciferase_luciferase:45-64+\r\n",
      "CCTCTAGAGGATGGAACCGC\r\n",
      ">luciferase_luciferase:970-989-\r\n",
      "GGCATGCGAGAATCTGACGC\r\n",
      ">luciferase_luciferase:83-102+\r\n",
      "GGCTATGAAGAGATACGCCC\r\n"
     ]
    }
   ],
   "source": [
    "!tail ../Human_TKO_version3_addgene90294.fasta"
   ]
  },
  {
   "cell_type": "code",
   "execution_count": 51,
   "metadata": {},
   "outputs": [
    {
     "data": {
      "text/html": [
       "<div>\n",
       "<style>\n",
       "    .dataframe thead tr:only-child th {\n",
       "        text-align: right;\n",
       "    }\n",
       "\n",
       "    .dataframe thead th {\n",
       "        text-align: left;\n",
       "    }\n",
       "\n",
       "    .dataframe tbody tr th {\n",
       "        vertical-align: top;\n",
       "    }\n",
       "</style>\n",
       "<table border=\"1\" class=\"dataframe\">\n",
       "  <thead>\n",
       "    <tr style=\"text-align: right;\">\n",
       "      <th></th>\n",
       "      <th>gRNA_ID</th>\n",
       "      <th>Gene</th>\n",
       "      <th>Guide_sequence</th>\n",
       "      <th>Illumina read counts</th>\n",
       "    </tr>\n",
       "  </thead>\n",
       "  <tbody>\n",
       "    <tr>\n",
       "      <th>0</th>\n",
       "      <td>A1BG_CCDS12976.1_ex3_19:58862927-58862950:-_5-1</td>\n",
       "      <td>A1BG</td>\n",
       "      <td>GACTTCCAGCTACGGCGCG</td>\n",
       "      <td>1122</td>\n",
       "    </tr>\n",
       "    <tr>\n",
       "      <th>1</th>\n",
       "      <td>A1BG_CCDS12976.1_ex4_19:58863655-58863678:+_5-2</td>\n",
       "      <td>A1BG</td>\n",
       "      <td>TCAATGGTCACAGTAGCGC</td>\n",
       "      <td>580</td>\n",
       "    </tr>\n",
       "    <tr>\n",
       "      <th>2</th>\n",
       "      <td>A1BG_CCDS12976.1_ex4_19:58863697-58863720:-_5-3</td>\n",
       "      <td>A1BG</td>\n",
       "      <td>CTGCAGCTACCGGACCGAT</td>\n",
       "      <td>803</td>\n",
       "    </tr>\n",
       "    <tr>\n",
       "      <th>3</th>\n",
       "      <td>A1BG_CCDS12976.1_ex4_19:58863866-58863889:+_5-4</td>\n",
       "      <td>A1BG</td>\n",
       "      <td>CGGGGGTGATCCAGGACAC</td>\n",
       "      <td>424</td>\n",
       "    </tr>\n",
       "    <tr>\n",
       "      <th>4</th>\n",
       "      <td>A1BG_CCDS12976.1_ex5_19:58864367-58864390:-_5-5</td>\n",
       "      <td>A1BG</td>\n",
       "      <td>TGCTGACGGGTGACACCCA</td>\n",
       "      <td>368</td>\n",
       "    </tr>\n",
       "  </tbody>\n",
       "</table>\n",
       "</div>"
      ],
      "text/plain": [
       "                                           gRNA_ID  Gene       Guide_sequence  \\\n",
       "0  A1BG_CCDS12976.1_ex3_19:58862927-58862950:-_5-1  A1BG  GACTTCCAGCTACGGCGCG   \n",
       "1  A1BG_CCDS12976.1_ex4_19:58863655-58863678:+_5-2  A1BG  TCAATGGTCACAGTAGCGC   \n",
       "2  A1BG_CCDS12976.1_ex4_19:58863697-58863720:-_5-3  A1BG  CTGCAGCTACCGGACCGAT   \n",
       "3  A1BG_CCDS12976.1_ex4_19:58863866-58863889:+_5-4  A1BG  CGGGGGTGATCCAGGACAC   \n",
       "4  A1BG_CCDS12976.1_ex5_19:58864367-58864390:-_5-5  A1BG  TGCTGACGGGTGACACCCA   \n",
       "\n",
       "   Illumina read counts   \n",
       "0                   1122  \n",
       "1                    580  \n",
       "2                    803  \n",
       "3                    424  \n",
       "4                    368  "
      ]
     },
     "execution_count": 51,
     "metadata": {},
     "output_type": "execute_result"
    }
   ],
   "source": [
    "df_human_yusa = pd.read_excel(\"../src_files/Human_Yusa_addgene67989.xlsx\")\n",
    "df_human_yusa.head()"
   ]
  },
  {
   "cell_type": "code",
   "execution_count": 52,
   "metadata": {},
   "outputs": [
    {
     "data": {
      "text/html": [
       "<div>\n",
       "<style>\n",
       "    .dataframe thead tr:only-child th {\n",
       "        text-align: right;\n",
       "    }\n",
       "\n",
       "    .dataframe thead th {\n",
       "        text-align: left;\n",
       "    }\n",
       "\n",
       "    .dataframe tbody tr th {\n",
       "        vertical-align: top;\n",
       "    }\n",
       "</style>\n",
       "<table border=\"1\" class=\"dataframe\">\n",
       "  <thead>\n",
       "    <tr style=\"text-align: right;\">\n",
       "      <th></th>\n",
       "      <th>gRNA_ID</th>\n",
       "      <th>Gene</th>\n",
       "      <th>Guide_sequence</th>\n",
       "      <th>Illumina read counts</th>\n",
       "    </tr>\n",
       "  </thead>\n",
       "  <tbody>\n",
       "    <tr>\n",
       "      <th>90704</th>\n",
       "      <td>ZZZ3_CCDS677.1_ex10_1:78097747-78097770:-_5-1</td>\n",
       "      <td>ZZZ3</td>\n",
       "      <td>GTCAATCTCCTACAAATCC</td>\n",
       "      <td>387</td>\n",
       "    </tr>\n",
       "    <tr>\n",
       "      <th>90705</th>\n",
       "      <td>ZZZ3_CCDS677.1_ex10_1:78097860-78097883:+_5-2</td>\n",
       "      <td>ZZZ3</td>\n",
       "      <td>GTGGGACTACCTCTGGTAG</td>\n",
       "      <td>319</td>\n",
       "    </tr>\n",
       "    <tr>\n",
       "      <th>90706</th>\n",
       "      <td>ZZZ3_CCDS677.1_ex10_1:78098021-78098044:-_5-3</td>\n",
       "      <td>ZZZ3</td>\n",
       "      <td>GAAAACACCAATAACGAAC</td>\n",
       "      <td>65</td>\n",
       "    </tr>\n",
       "    <tr>\n",
       "      <th>90707</th>\n",
       "      <td>ZZZ3_CCDS677.1_ex10_1:78098133-78098156:-_5-4</td>\n",
       "      <td>ZZZ3</td>\n",
       "      <td>GACTACTGAGCCAGCTACA</td>\n",
       "      <td>274</td>\n",
       "    </tr>\n",
       "    <tr>\n",
       "      <th>90708</th>\n",
       "      <td>ZZZ3_CCDS677.1_ex10_1:78098155-78098178:+_5-5</td>\n",
       "      <td>ZZZ3</td>\n",
       "      <td>GCTGATTAACATGTTCCAC</td>\n",
       "      <td>295</td>\n",
       "    </tr>\n",
       "  </tbody>\n",
       "</table>\n",
       "</div>"
      ],
      "text/plain": [
       "                                             gRNA_ID  Gene  \\\n",
       "90704  ZZZ3_CCDS677.1_ex10_1:78097747-78097770:-_5-1  ZZZ3   \n",
       "90705  ZZZ3_CCDS677.1_ex10_1:78097860-78097883:+_5-2  ZZZ3   \n",
       "90706  ZZZ3_CCDS677.1_ex10_1:78098021-78098044:-_5-3  ZZZ3   \n",
       "90707  ZZZ3_CCDS677.1_ex10_1:78098133-78098156:-_5-4  ZZZ3   \n",
       "90708  ZZZ3_CCDS677.1_ex10_1:78098155-78098178:+_5-5  ZZZ3   \n",
       "\n",
       "            Guide_sequence  Illumina read counts   \n",
       "90704  GTCAATCTCCTACAAATCC                    387  \n",
       "90705  GTGGGACTACCTCTGGTAG                    319  \n",
       "90706  GAAAACACCAATAACGAAC                     65  \n",
       "90707  GACTACTGAGCCAGCTACA                    274  \n",
       "90708  GCTGATTAACATGTTCCAC                    295  "
      ]
     },
     "execution_count": 52,
     "metadata": {},
     "output_type": "execute_result"
    }
   ],
   "source": [
    "df_human_yusa.tail()"
   ]
  },
  {
   "cell_type": "code",
   "execution_count": 63,
   "metadata": {
    "collapsed": true
   },
   "outputs": [],
   "source": [
    "sgRNA_id = [\"\".join(v.split(\"_\")[-2:]) for v in df_human_yusa.gRNA_ID]"
   ]
  },
  {
   "cell_type": "code",
   "execution_count": 66,
   "metadata": {},
   "outputs": [],
   "source": [
    "sgRNA_id = [\"{}_{}\".format(g, i) for g, i in zip(df_human_yusa.Gene, sgRNA_id) ]"
   ]
  },
  {
   "cell_type": "code",
   "execution_count": 68,
   "metadata": {},
   "outputs": [
    {
     "data": {
      "text/plain": [
       "(90709, 90709)"
      ]
     },
     "execution_count": 68,
     "metadata": {},
     "output_type": "execute_result"
    }
   ],
   "source": [
    "len(sgRNA_id), len(set(sgRNA_id))"
   ]
  },
  {
   "cell_type": "code",
   "execution_count": 69,
   "metadata": {
    "collapsed": true
   },
   "outputs": [],
   "source": [
    "sgRNA_seq = df_human_yusa.Guide_sequence"
   ]
  },
  {
   "cell_type": "code",
   "execution_count": 70,
   "metadata": {
    "collapsed": true
   },
   "outputs": [],
   "source": [
    "with open(\"../Human_Yusa_addgene67989.fasta\", \"w\") as oup:\n",
    "    for sg_id, sg_seq in zip(sgRNA_id, sgRNA_seq):\n",
    "        print(\">{}\".format(sg_id), file=oup)\n",
    "        print(sg_seq, file=oup)"
   ]
  },
  {
   "cell_type": "code",
   "execution_count": 71,
   "metadata": {},
   "outputs": [
    {
     "name": "stdout",
     "output_type": "stream",
     "text": [
      ">A1BG_19:58862927-58862950:-5-1\r\n",
      "GACTTCCAGCTACGGCGCG\r\n",
      ">A1BG_19:58863655-58863678:+5-2\r\n",
      "TCAATGGTCACAGTAGCGC\r\n",
      ">A1BG_19:58863697-58863720:-5-3\r\n",
      "CTGCAGCTACCGGACCGAT\r\n",
      ">A1BG_19:58863866-58863889:+5-4\r\n",
      "CGGGGGTGATCCAGGACAC\r\n",
      ">A1BG_19:58864367-58864390:-5-5\r\n",
      "TGCTGACGGGTGACACCCA\r\n"
     ]
    }
   ],
   "source": [
    "!head ../Human_Yusa_addgene67989.fasta"
   ]
  },
  {
   "cell_type": "code",
   "execution_count": 72,
   "metadata": {},
   "outputs": [
    {
     "name": "stdout",
     "output_type": "stream",
     "text": [
      ">ZZZ3_1:78097747-78097770:-5-1\r\n",
      "GTCAATCTCCTACAAATCC\r\n",
      ">ZZZ3_1:78097860-78097883:+5-2\r\n",
      "GTGGGACTACCTCTGGTAG\r\n",
      ">ZZZ3_1:78098021-78098044:-5-3\r\n",
      "GAAAACACCAATAACGAAC\r\n",
      ">ZZZ3_1:78098133-78098156:-5-4\r\n",
      "GACTACTGAGCCAGCTACA\r\n",
      ">ZZZ3_1:78098155-78098178:+5-5\r\n",
      "GCTGATTAACATGTTCCAC\r\n"
     ]
    }
   ],
   "source": [
    "!tail ../Human_Yusa_addgene67989.fasta"
   ]
  },
  {
   "cell_type": "code",
   "execution_count": null,
   "metadata": {
    "collapsed": true
   },
   "outputs": [],
   "source": []
  }
 ],
 "metadata": {
  "kernelspec": {
   "display_name": "Python 3",
   "language": "python",
   "name": "python3"
  },
  "language_info": {
   "codemirror_mode": {
    "name": "ipython",
    "version": 3
   },
   "file_extension": ".py",
   "mimetype": "text/x-python",
   "name": "python",
   "nbconvert_exporter": "python",
   "pygments_lexer": "ipython3",
   "version": "3.6.3"
  },
  "latex_envs": {
   "LaTeX_envs_menu_present": true,
   "autocomplete": true,
   "bibliofile": "biblio.bib",
   "cite_by": "apalike",
   "current_citInitial": 1,
   "eqLabelWithNumbers": true,
   "eqNumInitial": 1,
   "hotkeys": {
    "equation": "Ctrl-E",
    "itemize": "Ctrl-I"
   },
   "labels_anchors": false,
   "latex_user_defs": false,
   "report_style_numbering": false,
   "user_envs_cfg": false
  }
 },
 "nbformat": 4,
 "nbformat_minor": 2
}
